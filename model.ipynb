{
 "cells": [
  {
   "cell_type": "code",
   "execution_count": 1,
   "metadata": {
    "collapsed": true
   },
   "outputs": [],
   "source": [
    "import pandas as pd\n",
    "import numpy as np\n",
    "import matplotlib.pyplot as plt\n",
    "plt.style.use('ggplot')\n",
    "%matplotlib inline"
   ]
  },
  {
   "cell_type": "code",
   "execution_count": 25,
   "metadata": {},
   "outputs": [
    {
     "data": {
      "text/html": [
       "<div>\n",
       "<style>\n",
       "    .dataframe thead tr:only-child th {\n",
       "        text-align: right;\n",
       "    }\n",
       "\n",
       "    .dataframe thead th {\n",
       "        text-align: left;\n",
       "    }\n",
       "\n",
       "    .dataframe tbody tr th {\n",
       "        vertical-align: top;\n",
       "    }\n",
       "</style>\n",
       "<table border=\"1\" class=\"dataframe\">\n",
       "  <thead>\n",
       "    <tr style=\"text-align: right;\">\n",
       "      <th></th>\n",
       "      <th>visitors</th>\n",
       "    </tr>\n",
       "  </thead>\n",
       "  <tbody>\n",
       "    <tr>\n",
       "      <th>count</th>\n",
       "      <td>252108.000000</td>\n",
       "    </tr>\n",
       "    <tr>\n",
       "      <th>mean</th>\n",
       "      <td>20.973761</td>\n",
       "    </tr>\n",
       "    <tr>\n",
       "      <th>std</th>\n",
       "      <td>16.757007</td>\n",
       "    </tr>\n",
       "    <tr>\n",
       "      <th>min</th>\n",
       "      <td>1.000000</td>\n",
       "    </tr>\n",
       "    <tr>\n",
       "      <th>25%</th>\n",
       "      <td>9.000000</td>\n",
       "    </tr>\n",
       "    <tr>\n",
       "      <th>50%</th>\n",
       "      <td>17.000000</td>\n",
       "    </tr>\n",
       "    <tr>\n",
       "      <th>75%</th>\n",
       "      <td>29.000000</td>\n",
       "    </tr>\n",
       "    <tr>\n",
       "      <th>max</th>\n",
       "      <td>877.000000</td>\n",
       "    </tr>\n",
       "  </tbody>\n",
       "</table>\n",
       "</div>"
      ],
      "text/plain": [
       "            visitors\n",
       "count  252108.000000\n",
       "mean       20.973761\n",
       "std        16.757007\n",
       "min         1.000000\n",
       "25%         9.000000\n",
       "50%        17.000000\n",
       "75%        29.000000\n",
       "max       877.000000"
      ]
     },
     "execution_count": 25,
     "metadata": {},
     "output_type": "execute_result"
    }
   ],
   "source": [
    "air_visit_data.describe()"
   ]
  },
  {
   "cell_type": "code",
   "execution_count": 58,
   "metadata": {
    "scrolled": true
   },
   "outputs": [],
   "source": [
    "parse_dates_reserve = ['visit_datetime', 'reserve_datetime']\n",
    "parse_dates_visit = ['visit_date']\n",
    "parse_dates_dates=['calendar_date']\n",
    "store_relation=pd.read_csv('store_id_relation.csv')\n",
    "air_store_info=pd.read_csv('air_store_info.csv',dtype={'air_genre_name':'category'})\n",
    "air_reserve=pd.read_csv('air_reserve.csv',parse_dates=parse_dates_reserve,dtype={'reserve_visitors':'int16'})\n",
    "air_visit_data=pd.read_csv('air_visit_data.csv',parse_dates=parse_dates_visit,dtype={'visitors':'int16'})\n",
    "date_info=pd.read_csv('date_info.csv',parse_dates=parse_dates_dates,dtype={'day_of_week':'category','holiday_flg':'category'})\n",
    "hpg_reserve=pd.read_csv('hpg_reserve.csv',parse_dates=parse_dates_reserve,dtype={'reserve_visitors':'int16'})\n",
    "hpg_store_info=pd.read_csv('hpg_store_info.csv',dtype={'hpg_genre_name':'category'})"
   ]
  },
  {
   "cell_type": "code",
   "execution_count": 102,
   "metadata": {},
   "outputs": [],
   "source": [
    "air_reserve_merged=pd.merge(pd.merge(air_reserve,air_store_info,on='air_store_id',how='left'),store_relation,on='air_store_id',how='left')\n",
    "air_reserve_merged['visit_datetime_day']=air_reserve_merged['visit_datetime'].apply(lambda x: x.replace(hour=0,minute=0, second=0))\n",
    "air_reserve_merged['reserve_datetime_day']=air_reserve_merged['reserve_datetime'].apply(lambda x: x.replace(hour=0,minute=0, second=0))\n",
    "air_reserve_merged=pd.merge(air_reserve_merged,date_info,left_on='visit_datetime_day',right_on='calendar_date',how='left')\n",
    "air_reserve_merged=pd.merge(air_reserve_merged,date_info,left_on='reserve_datetime_day',right_on='calendar_date',how='left')\n",
    "\n",
    "air_visit_data_merged=pd.merge(pd.merge(air_visit_data,air_store_info,on='air_store_id',how='left'),store_relation,on='air_store_id',how='left')\n",
    "air_visit_data_merged=pd.merge(air_visit_data_merged,date_info,left_on='visit_date',right_on='calendar_date',how='left')\n",
    "\n",
    "hpg_reserve_merged=pd.merge(pd.merge(hpg_reserve,hpg_store_info,on='hpg_store_id',how='left'),store_relation,on='hpg_store_id',how='left')\n",
    "hpg_reserve_merged['visit_datetime_day']=hpg_reserve_merged['visit_datetime'].apply(lambda x: x.replace(hour=0,minute=0, second=0))\n",
    "hpg_reserve_merged['reserve_datetime_day']=hpg_reserve_merged['reserve_datetime'].apply(lambda x: x.replace(hour=0,minute=0, second=0))\n",
    "hpg_reserve_merged=pd.merge(hpg_reserve_merged,date_info,left_on='visit_datetime_day',right_on='calendar_date',how='left')\n",
    "hpg_reserve_merged=pd.merge(hpg_reserve_merged,date_info,left_on='reserve_datetime_day',right_on='calendar_date',how='left')\n"
   ]
  },
  {
   "cell_type": "code",
   "execution_count": 104,
   "metadata": {},
   "outputs": [],
   "source": [
    "air_reserve_merged.to_csv('air_reserve_merged.csv')\n",
    "air_visit_data_merged.to_csv('air_visit_data_merged.csv')\n",
    "hpg_reserve_merged.to_csv('hpg_reserve_merged.csv')"
   ]
  }
 ],
 "metadata": {
  "kernelspec": {
   "display_name": "Python 3",
   "language": "python",
   "name": "python3"
  },
  "language_info": {
   "codemirror_mode": {
    "name": "ipython",
    "version": 3
   },
   "file_extension": ".py",
   "mimetype": "text/x-python",
   "name": "python",
   "nbconvert_exporter": "python",
   "pygments_lexer": "ipython3",
   "version": "3.6.3"
  }
 },
 "nbformat": 4,
 "nbformat_minor": 2
}
